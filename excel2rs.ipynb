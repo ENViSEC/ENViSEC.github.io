{
 "cells": [
  {
   "cell_type": "markdown",
   "metadata": {},
   "source": [
    "# Automatically processing the .xlsx excel files to render the information in HPC website"
   ]
  },
  {
   "cell_type": "code",
   "execution_count": 41,
   "metadata": {},
   "outputs": [
    {
     "name": "stdout",
     "output_type": "stream",
     "text": [
      "Processing at: ../SEIT/AISE-equipment.xlsx\n",
      "The file is saved at: table/AISE-equipment.csv\n",
      "==============================\n",
      "Processing at: ../SEIT/SmartSecLab-equipment.xlsx\n",
      "The file is saved at: table/SmartSecLab-equipment.csv\n",
      "==============================\n",
      "Processing at: ../SEIT/MOTEL-equipment.xlsx\n",
      "The file is saved at: table/MOTEL-equipment.csv\n",
      "==============================\n",
      "Processing at: ../SEIT/IDEAS-equipment.xlsx\n",
      "The file is saved at: table/IDEAS-equipment.csv\n",
      "==============================\n"
     ]
    }
   ],
   "source": [
    "import pandas as pd \n",
    "from pathlib import Path\n",
    "from tabulate import tabulate\n",
    "\n",
    "entries = Path('../SEIT/')\n",
    "files = [file for file in entries.iterdir() if (file.suffix=='.xlsx') or (file.suffix=='.xls')]\n",
    "\n",
    "\n",
    "def excel2csv(inputfile, csvfile):\n",
    "    print(f'Processing at: {f}')\n",
    "    df = pd.read_excel(inputfile, index_col='Equipment')\n",
    "    df = df.reset_index()\n",
    "    df = df.rename(columns={'index': 'Equipment'})\n",
    "    df = df.rename_axis('SN', axis=1)\n",
    "    df =df.reset_index(drop=True).dropna(axis=1, how='all')\n",
    "    df = df[['Equipment','Quantity', 'Applications']]\n",
    "    # print(tabulate(df))\n",
    "    df.to_csv(path_or_buf=csvfile,\n",
    "            sep=';',\n",
    "            encoding='utf-8',\n",
    "            quotechar='\"',\n",
    "            doublequote=True,\n",
    "            index=False,\n",
    "            )\n",
    "    print(f'The file is saved at: {csvfile}')\n",
    "    print('='*30)\n",
    "    return df\n",
    "\n",
    "\n",
    "for f in files:\n",
    "    if len(pd.read_excel(f)):\n",
    "        excel2csv(\n",
    "            inputfile=f,\n",
    "            csvfile='table/' + f.stem + '.csv'\n",
    "            )\n",
    "    else:\n",
    "        print(f'{f} is empty')\n",
    "        print('='*30)\n"
   ]
  },
  {
   "cell_type": "markdown",
   "metadata": {},
   "source": []
  }
 ],
 "metadata": {
  "kernelspec": {
   "display_name": "hpc",
   "language": "python",
   "name": "python3"
  },
  "language_info": {
   "codemirror_mode": {
    "name": "ipython",
    "version": 3
   },
   "file_extension": ".py",
   "mimetype": "text/x-python",
   "name": "python",
   "nbconvert_exporter": "python",
   "pygments_lexer": "ipython3",
   "version": "3.8.0"
  },
  "orig_nbformat": 4
 },
 "nbformat": 4,
 "nbformat_minor": 2
}
