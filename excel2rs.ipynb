{
 "cells": [
  {
   "cell_type": "code",
   "execution_count": 3,
   "metadata": {},
   "outputs": [
    {
     "data": {
      "text/plain": [
       "[(PosixPath('../SEIT equipment/Economics - equipment.xlsx'), 0),\n",
       " (PosixPath('../SEIT equipment/AISE lab equipment.xlsx'), 0),\n",
       " (PosixPath('../SEIT equipment/IED lab equipment.xlsx'), 0),\n",
       " (PosixPath('../SEIT equipment/old-Kristiania-HPC-equipments.xlsx'), 21),\n",
       " (PosixPath('../SEIT equipment/BTL lab equipment.xlsx'), 0),\n",
       " (PosixPath('../SEIT equipment/SmartSecLab equipment.xlsx'), 0),\n",
       " (PosixPath('../SEIT equipment/MOTEL-lab equipment.xlsx'), 0),\n",
       " (PosixPath('../SEIT equipment/IDEAS lab equipment.xlsx'), 0),\n",
       " (PosixPath('../SEIT equipment/SmartSecLab equipment-ENViSEC-refine.xlsx'),\n",
       "  11),\n",
       " (PosixPath('../SEIT equipment/IOS lab equipment.xlsx'), 0),\n",
       " (PosixPath('../SEIT equipment/SmartSecLab equipment-ENViSEC copy.xlsx'), 23),\n",
       " (PosixPath('../SEIT equipment/AI lab equipment.xlsx'), 0),\n",
       " (PosixPath('../SEIT equipment/PIL lab equipment.xlsx'), 0),\n",
       " (PosixPath('../SEIT equipment/Pedagogikk lab equipment.xlsx'), 0),\n",
       " (PosixPath('../SEIT equipment/AII lab equipment.xlsx'), 0)]"
      ]
     },
     "execution_count": 3,
     "metadata": {},
     "output_type": "execute_result"
    }
   ],
   "source": [
    "import pandas as pd \n",
    "from pathlib import Path\n",
    "\n",
    "entries = Path('../SEIT equipment/')\n",
    "files = [file for file in entries.iterdir() if (file.suffix=='.xlsx') or (file.suffix=='.xls')]\n",
    "files\n",
    "[(f, len(pd.read_excel(f))) for f in files]"
   ]
  },
  {
   "cell_type": "code",
   "execution_count": 5,
   "metadata": {},
   "outputs": [
    {
     "data": {
      "text/html": [
       "<div>\n",
       "<style scoped>\n",
       "    .dataframe tbody tr th:only-of-type {\n",
       "        vertical-align: middle;\n",
       "    }\n",
       "\n",
       "    .dataframe tbody tr th {\n",
       "        vertical-align: top;\n",
       "    }\n",
       "\n",
       "    .dataframe thead th {\n",
       "        text-align: right;\n",
       "    }\n",
       "</style>\n",
       "<table border=\"1\" class=\"dataframe\">\n",
       "  <thead>\n",
       "    <tr style=\"text-align: right;\">\n",
       "      <th></th>\n",
       "    </tr>\n",
       "  </thead>\n",
       "  <tbody>\n",
       "  </tbody>\n",
       "</table>\n",
       "</div>"
      ],
      "text/plain": [
       "Empty DataFrame\n",
       "Columns: []\n",
       "Index: []"
      ]
     },
     "execution_count": 5,
     "metadata": {},
     "output_type": "execute_result"
    }
   ],
   "source": [
    "def excel2csv(inputfile, csvfile):\n",
    "    df = pd.read_excel(inputfile, index_col='Equipment').T\n",
    "    df = df.reset_index()\n",
    "    df = df.rename(columns={'index': 'Equipment'})\n",
    "    df = df.reset_index()\n",
    "    df.insert(loc=0, column='SN', value=df['index'] + 1)\n",
    "    df = df.drop(columns=['index'])\n",
    "    df =df.reset_index(drop=True).dropna(axis=1, how='all')\n",
    "    df.to_csv(csvfile, sep =';', index=False)\n",
    "    return df\n",
    "\n",
    "\n",
    "# excel2csv(inputfile='../SEIT equipment/SmartSecLab equipment-ENViSEC-refine.xlsx', \n",
    "#           csvfile='table/smartseclab-equip.csv'\n",
    "#           )\n",
    "excel2csv(inputfile='../SEIT equipment/MOTEL-lab equipment.xlsx', \n",
    "          csvfile='table/motel_equip.csv')"
   ]
  }
 ],
 "metadata": {
  "kernelspec": {
   "display_name": "hpc",
   "language": "python",
   "name": "python3"
  },
  "language_info": {
   "codemirror_mode": {
    "name": "ipython",
    "version": 3
   },
   "file_extension": ".py",
   "mimetype": "text/x-python",
   "name": "python",
   "nbconvert_exporter": "python",
   "pygments_lexer": "ipython3",
   "version": "3.8.0"
  },
  "orig_nbformat": 4
 },
 "nbformat": 4,
 "nbformat_minor": 2
}
